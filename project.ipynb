{
  "cells": [
    {
      "cell_type": "markdown",
      "metadata": {
        "id": "view-in-github",
        "colab_type": "text"
      },
      "source": [
        "<a href=\"https://colab.research.google.com/github/jwalith/Projects/blob/main/project.ipynb\" target=\"_parent\"><img src=\"https://colab.research.google.com/assets/colab-badge.svg\" alt=\"Open In Colab\"/></a>"
      ]
    },
    {
      "cell_type": "code",
      "execution_count": null,
      "metadata": {
        "id": "htL2sYCb8g1H",
        "outputId": "945be1b0-2b82-4b02-e677-3e4a54862220"
      },
      "outputs": [
        {
          "name": "stderr",
          "output_type": "stream",
          "text": [
            "Using TensorFlow backend.\n"
          ]
        }
      ],
      "source": [
        "#import keras libraries\n",
        "from keras.models import Sequential\n",
        "from keras.layers import Dense\n",
        "from keras.layers import Conv2D\n",
        "from keras.layers import MaxPooling2D\n",
        "from keras.layers import Flatten"
      ]
    },
    {
      "cell_type": "code",
      "execution_count": null,
      "metadata": {
        "id": "96KeINPS8g1R"
      },
      "outputs": [],
      "source": [
        "model=Sequential()"
      ]
    },
    {
      "cell_type": "code",
      "execution_count": null,
      "metadata": {
        "id": "tvg8YZD98g1S"
      },
      "outputs": [],
      "source": [
        "model.add(Conv2D(32,3,3,input_shape=(128,128,3),activation='relu'))#1St parameter =no of features detectors 2nd& 3rd =Size of feature detector, \n",
        "#4th input image size,5 th parameter is channel for color=3 gray scale=1,6 th to avoid negative pixels we use activation function"
      ]
    },
    {
      "cell_type": "code",
      "execution_count": null,
      "metadata": {
        "id": "TgCP7kF48g1U"
      },
      "outputs": [],
      "source": [
        "model.add(MaxPooling2D(pool_size=(2,2)))#1parmeter=size of pooling matrix"
      ]
    },
    {
      "cell_type": "code",
      "execution_count": null,
      "metadata": {
        "id": "3QfUPeCd8g1V"
      },
      "outputs": [],
      "source": [
        "model.add(Flatten())"
      ]
    },
    {
      "cell_type": "code",
      "execution_count": null,
      "metadata": {
        "id": "-eFbA6lZ8g1V"
      },
      "outputs": [],
      "source": [
        "model.add(Dense(output_dim=128,activation='relu',init='random_uniform'))"
      ]
    },
    {
      "cell_type": "code",
      "execution_count": null,
      "metadata": {
        "id": "Ik7eHETe8g1X"
      },
      "outputs": [],
      "source": [
        "model.add(Dense(output_dim=60,activation='relu',init='random_uniform'))"
      ]
    },
    {
      "cell_type": "code",
      "execution_count": null,
      "metadata": {
        "id": "3o4OzDv58g1Y"
      },
      "outputs": [],
      "source": [
        "model.add(Dense(output_dim=30,activation='relu',init='random_uniform'))"
      ]
    },
    {
      "cell_type": "code",
      "execution_count": null,
      "metadata": {
        "id": "G_Y2vwOK8g1a"
      },
      "outputs": [],
      "source": [
        "model.add(Dense(output_dim=2,activation='sigmoid',init='random_uniform'))"
      ]
    },
    {
      "cell_type": "code",
      "execution_count": null,
      "metadata": {
        "id": "rJeV5EMd8g1e"
      },
      "outputs": [],
      "source": [
        "model.compile(optimizer='adam',loss='binary_crossentropy',metrics=['accuracy'])"
      ]
    },
    {
      "cell_type": "code",
      "execution_count": null,
      "metadata": {
        "id": "nW7G4WOf8g1g"
      },
      "outputs": [],
      "source": [
        "from keras.preprocessing.image import ImageDataGenerator"
      ]
    },
    {
      "cell_type": "code",
      "execution_count": null,
      "metadata": {
        "id": "jQiS2QOp8g1h"
      },
      "outputs": [],
      "source": [
        "train_datagen=ImageDataGenerator(rescale=1./255,shear_range=0.2,zoom_range=0.2,horizontal_flip=True)\n",
        "test_datagen = ImageDataGenerator(rescale=1./255)"
      ]
    },
    {
      "cell_type": "code",
      "execution_count": null,
      "metadata": {
        "id": "2rRIPzX88g1h",
        "outputId": "8149a7d6-0c10-45ad-d8fe-8372cc6e37b1"
      },
      "outputs": [
        {
          "name": "stdout",
          "output_type": "stream",
          "text": [
            "Found 189 images belonging to 2 classes.\n",
            "Found 57 images belonging to 2 classes.\n"
          ]
        }
      ],
      "source": [
        "x_train = train_datagen.flow_from_directory(r'C:\\Users\\my\\Documents\\lalala\\trainset',target_size=(128,128),batch_size=9,class_mode='categorical')\n",
        "x_test = test_datagen.flow_from_directory(r'C:\\Users\\my\\Documents\\lalala\\testset',target_size=(128,128),batch_size=9,class_mode='categorical')"
      ]
    },
    {
      "cell_type": "code",
      "execution_count": null,
      "metadata": {
        "id": "gbCFD3J-8g1j",
        "outputId": "49f680c2-9b9a-4374-baa8-6838e3cdd8de"
      },
      "outputs": [
        {
          "name": "stdout",
          "output_type": "stream",
          "text": [
            "{'elen': 0, 'modi': 1}\n",
            "{'elen': 0, 'modi': 1}\n"
          ]
        }
      ],
      "source": [
        "print(x_train.class_indices)\n",
        "print(x_test.class_indices)"
      ]
    },
    {
      "cell_type": "code",
      "execution_count": null,
      "metadata": {
        "id": "eu0eVRpa8g1k"
      },
      "outputs": [],
      "source": [
        "model.fit_generator(x_train,samples_per_epoch = 21,epochs=40,validation_data=x_test,nb_val_samples=57)#(samples_per_epoch= no of traininig or testing images/batch size)\n",
        "                                                                        #                                                       =8000/32=250"
      ]
    },
    {
      "cell_type": "code",
      "execution_count": null,
      "metadata": {
        "id": "A26RHY4P8g1l"
      },
      "outputs": [],
      "source": [
        "model.save('mymodel.h5')# this will save the weights,for keras h5 is extension"
      ]
    },
    {
      "cell_type": "code",
      "execution_count": null,
      "metadata": {
        "id": "WO1Zl0Ik8g1l"
      },
      "outputs": [],
      "source": []
    },
    {
      "cell_type": "code",
      "execution_count": null,
      "metadata": {
        "id": "Ga5dXm3R8g1m"
      },
      "outputs": [],
      "source": []
    },
    {
      "cell_type": "code",
      "execution_count": null,
      "metadata": {
        "id": "9-1iN0zK8g1m"
      },
      "outputs": [],
      "source": []
    }
  ],
  "metadata": {
    "kernelspec": {
      "display_name": "Python 3",
      "language": "python",
      "name": "python3"
    },
    "language_info": {
      "codemirror_mode": {
        "name": "ipython",
        "version": 3
      },
      "file_extension": ".py",
      "mimetype": "text/x-python",
      "name": "python",
      "nbconvert_exporter": "python",
      "pygments_lexer": "ipython3",
      "version": "3.7.3"
    },
    "colab": {
      "provenance": [],
      "include_colab_link": true
    }
  },
  "nbformat": 4,
  "nbformat_minor": 0
}