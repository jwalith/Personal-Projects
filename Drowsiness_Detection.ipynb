{
  "nbformat": 4,
  "nbformat_minor": 0,
  "metadata": {
    "colab": {
      "provenance": [],
      "authorship_tag": "ABX9TyOqUBNRdkwPq3anRm+vDwQS",
      "include_colab_link": true
    },
    "kernelspec": {
      "name": "python3",
      "display_name": "Python 3"
    },
    "language_info": {
      "name": "python"
    }
  },
  "cells": [
    {
      "cell_type": "markdown",
      "metadata": {
        "id": "view-in-github",
        "colab_type": "text"
      },
      "source": [
        "<a href=\"https://colab.research.google.com/github/jwalith/Projects/blob/main/Drowsiness_Detection.ipynb\" target=\"_parent\"><img src=\"https://colab.research.google.com/assets/colab-badge.svg\" alt=\"Open In Colab\"/></a>"
      ]
    },
    {
      "cell_type": "code",
      "execution_count": 23,
      "metadata": {
        "id": "_OpYp9ZPcHis"
      },
      "outputs": [],
      "source": [
        "from imutils import face_utils\n",
        "import dlib\n",
        "import cv2\n"
      ]
    },
    {
      "cell_type": "code",
      "source": [
        "pip install pygame "
      ],
      "metadata": {
        "colab": {
          "base_uri": "https://localhost:8080/"
        },
        "id": "v_Oq_zE2keue",
        "outputId": "55e08a20-91b8-4935-9415-ad1811dcd467"
      },
      "execution_count": 24,
      "outputs": [
        {
          "output_type": "stream",
          "name": "stdout",
          "text": [
            "Looking in indexes: https://pypi.org/simple, https://us-python.pkg.dev/colab-wheels/public/simple/\n",
            "Requirement already satisfied: pygame in /usr/local/lib/python3.8/dist-packages (2.1.2)\n"
          ]
        }
      ]
    },
    {
      "cell_type": "code",
      "source": [
        "from pygame import mixer"
      ],
      "metadata": {
        "id": "OiJ3wIjYmS6_"
      },
      "execution_count": 25,
      "outputs": []
    },
    {
      "cell_type": "code",
      "source": [
        "thres = 6\n"
      ],
      "metadata": {
        "id": "AVGuvnu6mae4"
      },
      "execution_count": 26,
      "outputs": []
    },
    {
      "cell_type": "code",
      "source": [
        "mixer.init()\n",
        "sound = mixer.Sound('alarm.wav')"
      ],
      "metadata": {
        "id": "e2R5YBxGxQOY"
      },
      "execution_count": null,
      "outputs": []
    },
    {
      "cell_type": "code",
      "source": [
        "#Copy images repo\n",
        "!rm -rf ORLFaceRecognition-PCA\n",
        "!git clone https://github.com/SilvesterHsu/ORLFaceRecognition-PCA.git\n",
        "\n",
        "#Copy shape_predictor_68_face_landmarks.dat file\n",
        "import urllib.request\n",
        "urllib.request.urlretrieve('http://dlib.net/files/shape_predictor_68_face_landmarks.dat.bz2', 'shape_predictor_68_face_landmarks.dat.bz2')\n",
        "\n",
        "#Uncompress file\n",
        "import bz2,shutil\n",
        "\n",
        "with bz2.BZ2File(\"shape_predictor_68_face_landmarks.dat.bz2\") as fr, open(\"shape_predictor_68_face_landmarks.dat\",\"wb\") as fw:\n",
        "    shutil.copyfileobj(fr,fw)"
      ],
      "metadata": {
        "colab": {
          "base_uri": "https://localhost:8080/"
        },
        "id": "6HX4qAxvoCif",
        "outputId": "ff6e17c7-4aac-42ef-9212-d35a0ab59a00"
      },
      "execution_count": 15,
      "outputs": [
        {
          "output_type": "stream",
          "name": "stdout",
          "text": [
            "Cloning into 'ORLFaceRecognition-PCA'...\n",
            "remote: Enumerating objects: 604, done.\u001b[K\n",
            "remote: Total 604 (delta 0), reused 0 (delta 0), pack-reused 604\u001b[K\n",
            "Receiving objects: 100% (604/604), 3.59 MiB | 22.99 MiB/s, done.\n",
            "Resolving deltas: 100% (93/93), done.\n"
          ]
        }
      ]
    },
    {
      "cell_type": "code",
      "source": [
        "dlist = []\n",
        "\n",
        "detector = dlib.get_frontal_face_detector()\n",
        "predictor = dlib.shape_predictor(\"shape_predictor_68_face_landmarks.dat\")"
      ],
      "metadata": {
        "id": "HmACWJp8uXWi"
      },
      "execution_count": 16,
      "outputs": []
    },
    {
      "cell_type": "code",
      "source": [
        "cap = cv2.VideoCapture(0)"
      ],
      "metadata": {
        "id": "HL1rTMmFuf1M"
      },
      "execution_count": 17,
      "outputs": []
    },
    {
      "cell_type": "code",
      "source": [
        "def dist(a,b):\n",
        "    x1,y1 = a\n",
        "    x2,y2 = b\n",
        "    return ((x1-x2)**2 + (y1-y2)**2)**0.5"
      ],
      "metadata": {
        "id": "19g8GK8Auw_s"
      },
      "execution_count": 18,
      "outputs": []
    },
    {
      "cell_type": "code",
      "source": [
        "while True:\n",
        "     \n",
        "    _, image = cap.read()\n",
        "    \n",
        "    gray = cv2.cvtColor(image, cv2.COLOR_BGR2GRAY)\n",
        "        \n",
        "    \n",
        "    rects = detector(gray, 0)\n",
        "    \n",
        "    \n",
        "    for (i, rect) in enumerate(rects):\n",
        "       \n",
        "        shape = predictor(gray, rect)\n",
        "        shape = face_utils.shape_to_np(shape)\n",
        "    \n",
        "      \n",
        "        for (x, y) in shape:\n",
        "            cv2.circle(image, (x, y), 2, (0, 255, 0), -1)\n",
        "        \n",
        "        le_38 = shape[37]\n",
        "        le_39 = shape[38]\n",
        "        le_41 = shape[40]\n",
        "        le_42 = shape[41]\n",
        "\n",
        "        re_44 = shape[43]\n",
        "        re_45 = shape[44]\n",
        "        re_47 = shape[46]\n",
        "        re_48 = shape[47]\n",
        "        \n",
        "\n",
        "        dlist.append((dist(le_38,le_42)+dist(le_39,le_41)+dist(re_44,re_48)+dist(re_45,re_47))/4<thres)\n",
        "        if len(dlist)>10:dlist.pop(0)\n",
        "\n",
        "        # Drowsiness detected\n",
        "        if sum(dlist)>=4:\n",
        "            try:\n",
        "                sound.play()\n",
        "            except:\n",
        "                pass\n",
        "        else:\n",
        "            try:\n",
        "                sound.stop()\n",
        "            except:\n",
        "                pass\n",
        "        \n",
        "    \n",
        "    cv2.imshow(\"Output\", image)\n",
        "    \n",
        "    if cv2.waitKey(5) & 0xFF == 27:\n",
        "        break\n",
        "\n",
        "cv2.destroyAllWindows()\n",
        "cap.release()"
      ],
      "metadata": {
        "id": "Ivhf_M83xzjw"
      },
      "execution_count": 28,
      "outputs": []
    },
    {
      "cell_type": "code",
      "source": [
        "while True:\n",
        "    # Getting out image by webcam \n",
        "    _, image = cap.read()\n",
        "    # Converting the image to gray scale\n",
        "    gray = cv2.cvtColor(image, cv2.COLOR_BGR2GRAY)\n",
        "        \n",
        "    # Get faces into webcam's image\n",
        "    rects = detector(gray, 0)\n",
        "    \n",
        "    # For each detected face, find the landmark.\n",
        "    for (i, rect) in enumerate(rects):\n",
        "        # Make the prediction and transfom it to numpy array\n",
        "        shape = predictor(gray, rect)\n",
        "        shape = face_utils.shape_to_np(shape)\n",
        "    \n",
        "        # Draw on our image, all the finded cordinate points (x,y) \n",
        "        for (x, y) in shape:\n",
        "            cv2.circle(image, (x, y), 2, (0, 255, 0), -1)\n",
        "        \n",
        "        le_38 = shape[37]\n",
        "        le_39 = shape[38]\n",
        "        le_41 = shape[40]\n",
        "        le_42 = shape[41]\n",
        "\n",
        "        re_44 = shape[43]\n",
        "        re_45 = shape[44]\n",
        "        re_47 = shape[46]\n",
        "        re_48 = shape[47]\n",
        "        \n",
        "\n",
        "        dlist.append((dist(le_38,le_42)+dist(le_39,le_41)+dist(re_44,re_48)+dist(re_45,re_47))/4<thres)\n",
        "        if len(dlist)>10:dlist.pop(0)\n",
        "\n",
        "        # Drowsiness detected\n",
        "        if sum(dlist)>=4:\n",
        "            try:\n",
        "                sound.play()\n",
        "            except:\n",
        "                pass\n",
        "        else:\n",
        "            try:\n",
        "                sound.stop()\n",
        "            except:\n",
        "                pass\n",
        "        \n",
        "    # Show the image\n",
        "    cv2.imshow(\"Output\", image)\n",
        "    \n",
        "    if cv2.waitKey(5) & 0xFF == 27:\n",
        "        break\n",
        "\n",
        "cv2.destroyAllWindows()\n",
        "cap.release()"
      ],
      "metadata": {
        "id": "WSIaZExYu4iB"
      },
      "execution_count": null,
      "outputs": []
    }
  ]
}