{
  "cells": [
    {
      "cell_type": "markdown",
      "metadata": {
        "id": "view-in-github",
        "colab_type": "text"
      },
      "source": [
        "<a href=\"https://colab.research.google.com/github/jwalith/Projects/blob/main/CNN_Predection.ipynb\" target=\"_parent\"><img src=\"https://colab.research.google.com/assets/colab-badge.svg\" alt=\"Open In Colab\"/></a>"
      ]
    },
    {
      "cell_type": "code",
      "execution_count": null,
      "metadata": {
        "id": "T90egoVl7yvv"
      },
      "outputs": [],
      "source": [
        "\n",
        "from keras.models import load_model\n",
        "import numpy as np\n",
        "import cv2\n",
        "model =load_model('mymodel.h5')"
      ]
    },
    {
      "cell_type": "code",
      "execution_count": null,
      "metadata": {
        "id": "zSCg9E1G7yv6"
      },
      "outputs": [],
      "source": [
        "model.compile(optimizer='adam',loss='binary_crossentropy',metrics=['accuracy'])"
      ]
    },
    {
      "cell_type": "code",
      "execution_count": null,
      "metadata": {
        "id": "JElGXxTE7yv7"
      },
      "outputs": [],
      "source": [
        "from skimage.transform import resize\n",
        "import uuid \n",
        "def detect(frame):\n",
        "    try:\n",
        "        data=uuid.uuid1()\n",
        "        img= resize(frame,(128,128))\n",
        "        img = np.expand_dims(img,axis=0)\n",
        "        if(np.max(img)>1):\n",
        "            img =img/255.0\n",
        "        prediction =model.predict(img)\n",
        "        print (prediction)\n",
        "        prediction_class = model.predict_classes(img)\n",
        "        if(prediction_class[0]==0):\n",
        "            print(\"elen\")\n",
        "            cv2.imwrite('C:/Users/my/Documents/lalala/elen/_'+str(data)+'.jpeg', frame)\n",
        "            \n",
        "                \n",
        "        if(prediction_class[0]==1):\n",
        "            \n",
        "            print(\"modi\")\n",
        "            cv2.imwrite('C:/Users/my/Documents/lalala/modi/_'+str(data)+'.jpeg', frame)\n",
        "        \n",
        "    except AttributeError:\n",
        "        print(\"shape not found\")"
      ]
    },
    {
      "cell_type": "code",
      "execution_count": null,
      "metadata": {
        "id": "TMM2-DNm7yv9"
      },
      "outputs": [],
      "source": [
        "frame= cv2.imread(\"test2.jpg\")\n",
        "data= detect(frame)"
      ]
    },
    {
      "cell_type": "code",
      "execution_count": null,
      "metadata": {
        "id": "c5xhVgU_7yv_"
      },
      "outputs": [],
      "source": [
        "import numpy as np\n",
        "from keras.preprocessing import image\n",
        "from tkinter import *\n",
        "from PIL import ImageTk, Image\n",
        "from tkinter import filedialog\n",
        "import os\n",
        "from keras.models import load_model\n",
        "model = load_model('mymodel.h5')\n",
        "import cv2\n",
        "from skimage.transform import resize"
      ]
    },
    {
      "cell_type": "code",
      "execution_count": null,
      "metadata": {
        "id": "qsmcwgWG7ywA"
      },
      "outputs": [],
      "source": [
        "model.compile(optimizer='adam',loss='binary_crossentropy',metrics=['accuracy'])"
      ]
    },
    {
      "cell_type": "code",
      "execution_count": null,
      "metadata": {
        "id": "nsf6Uo2s7ywB",
        "outputId": "cc67213b-fdad-4a0a-fd10-50240684f3f1"
      },
      "outputs": [
        {
          "name": "stdout",
          "output_type": "stream",
          "text": [
            "[[0.4657975 0.5365544]]\n",
            "[[0.56407183 0.45901042]]\n"
          ]
        }
      ],
      "source": [
        "root = Tk()\n",
        "root.geometry(\"550x300+300+150\")\n",
        "root.resizable(width=True, height=True)\n",
        "\n",
        "def openfn():\n",
        "    filename = filedialog.askopenfilename(title='open')\n",
        "    return filename\n",
        "def open_img():\n",
        "    x = openfn()\n",
        "    frame= cv2.imread(x)\n",
        "    img= resize(frame,(128,128))\n",
        "    img = np.expand_dims(img,axis=0)\n",
        "    if(np.max(img)>1):\n",
        "        img =img/255.0\n",
        "    prediction =model.predict(img)\n",
        "    print (prediction)\n",
        "    prediction_class = model.predict_classes(img)\n",
        "    index=[\"elen\",\"modi\"]\n",
        "    label = Label( root, text=\"Prediction : \"+index[prediction_class[0]])\n",
        "    label.pack()\n",
        "    img = Image.open(x)\n",
        "    img = img.resize((250, 250), Image.ANTIALIAS)\n",
        "    img = ImageTk.PhotoImage(img)\n",
        "    panel = Label(root, image=img)\n",
        "    panel.image = img\n",
        "    panel.pack()\n",
        "\n",
        "btn = Button(root, text='open image', command=open_img).pack()\n",
        "\n",
        "root.mainloop()\n"
      ]
    },
    {
      "cell_type": "code",
      "execution_count": null,
      "metadata": {
        "id": "qNe2Mbbe7ywD"
      },
      "outputs": [],
      "source": []
    },
    {
      "cell_type": "code",
      "execution_count": null,
      "metadata": {
        "id": "q07BJJX77ywE"
      },
      "outputs": [],
      "source": []
    }
  ],
  "metadata": {
    "kernelspec": {
      "display_name": "Python 3",
      "language": "python",
      "name": "python3"
    },
    "language_info": {
      "codemirror_mode": {
        "name": "ipython",
        "version": 3
      },
      "file_extension": ".py",
      "mimetype": "text/x-python",
      "name": "python",
      "nbconvert_exporter": "python",
      "pygments_lexer": "ipython3",
      "version": "3.7.3"
    },
    "colab": {
      "provenance": [],
      "include_colab_link": true
    }
  },
  "nbformat": 4,
  "nbformat_minor": 0
}